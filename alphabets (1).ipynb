{
 "cells": [
  {
   "cell_type": "code",
   "execution_count": 2,
   "id": "a2243b27",
   "metadata": {},
   "outputs": [
    {
     "name": "stdout",
     "output_type": "stream",
     "text": [
      "*****\n",
      "*   *\n",
      "*****\n",
      "*   *\n",
      "*   *\n"
     ]
    }
   ],
   "source": [
    "a=1\n",
    "while a<=5:\n",
    "    if a==1:\n",
    "        print(\"*****\")\n",
    "    if a==2:\n",
    "        print(\"*   *\")\n",
    "    if a==3:\n",
    "        print(\"*****\")\n",
    "    if a==4:\n",
    "        print(\"*   *\")\n",
    "    if a==5:\n",
    "        print(\"*   *\")\n",
    "    a=a+1"
   ]
  },
  {
   "cell_type": "code",
   "execution_count": 4,
   "id": "4d40e804",
   "metadata": {},
   "outputs": [
    {
     "name": "stdout",
     "output_type": "stream",
     "text": [
      "****\n",
      "*   *\n",
      "*   *\n",
      "****\n",
      "*   *\n",
      "*   *\n",
      "****\n"
     ]
    }
   ],
   "source": [
    "a=1\n",
    "while a<=7:\n",
    "    if a==1:\n",
    "        print(\"****\")\n",
    "    if a==2:\n",
    "        print(\"*   *\")\n",
    "    if a==3:\n",
    "        print(\"*   *\")\n",
    "    if a==4:\n",
    "        print(\"****\")\n",
    "    if a==5:\n",
    "        print(\"*   *\")\n",
    "    if a==6:\n",
    "        print(\"*   *\")\n",
    "    if a==7:\n",
    "        print(\"****\")\n",
    "    a=a+1"
   ]
  },
  {
   "cell_type": "code",
   "execution_count": 8,
   "id": "15d9d6dc",
   "metadata": {},
   "outputs": [
    {
     "name": "stdout",
     "output_type": "stream",
     "text": [
      "*****\n",
      "*\n",
      "*\n",
      "*\n",
      "*****\n"
     ]
    }
   ],
   "source": [
    "a=1\n",
    "while a<=5:\n",
    "    if a==1:\n",
    "        print(\"*****\")\n",
    "    if a==2:\n",
    "        print(\"*\")\n",
    "    if a==3:\n",
    "        print(\"*\")\n",
    "    if a==4:\n",
    "        print(\"*\")\n",
    "    if a==5:\n",
    "        print(\"*****\")\n",
    "    a=a+1"
   ]
  },
  {
   "cell_type": "code",
   "execution_count": 12,
   "id": "488fca25",
   "metadata": {},
   "outputs": [
    {
     "name": "stdout",
     "output_type": "stream",
     "text": [
      "***\n",
      "*  *\n",
      "*  *\n",
      "***\n"
     ]
    }
   ],
   "source": [
    "a=1\n",
    "while a<=4:\n",
    "    if a==1:\n",
    "        print(\"***\")\n",
    "    if a==2:\n",
    "        print(\"*  *\")\n",
    "    if a==3:\n",
    "        print(\"*  *\")\n",
    "    if a==4:\n",
    "        print(\"***\")\n",
    "    a=a+1"
   ]
  },
  {
   "cell_type": "code",
   "execution_count": 36,
   "id": "2b929601",
   "metadata": {},
   "outputs": [
    {
     "name": "stdout",
     "output_type": "stream",
     "text": [
      "*****\n",
      "*\n",
      "*\n",
      "*****\n",
      "*\n",
      "*\n",
      "*****\n"
     ]
    }
   ],
   "source": [
    "a=1\n",
    "while a<=7:\n",
    "    if a==1:\n",
    "        print(\"*****\")\n",
    "    if a==2:\n",
    "        print(\"*\")\n",
    "    if a==3:\n",
    "        print(\"*\")\n",
    "    if a==4:\n",
    "        print(\"*****\")\n",
    "    if a==5:\n",
    "        print(\"*\")\n",
    "    if a==6:\n",
    "        print(\"*\")\n",
    "    if a==7:\n",
    "        print(\"*****\")\n",
    "    a=a+1"
   ]
  },
  {
   "cell_type": "code",
   "execution_count": 1,
   "id": "0e948937",
   "metadata": {},
   "outputs": [
    {
     "name": "stdout",
     "output_type": "stream",
     "text": [
      "*****\n",
      "*\n",
      "*\n",
      "*****\n",
      "*\n",
      "*\n"
     ]
    }
   ],
   "source": [
    "a=1\n",
    "while a<=6:\n",
    "    if a==1:\n",
    "        print(\"*****\")\n",
    "    if a==2:\n",
    "        print(\"*\")\n",
    "    if a==3:\n",
    "        print(\"*\")\n",
    "    if a==4:\n",
    "        print(\"*****\")\n",
    "    if a==5:\n",
    "        print(\"*\")\n",
    "    if a==6:\n",
    "        print(\"*\")\n",
    "    a=a+1\n",
    "        \n",
    "        \n"
   ]
  },
  {
   "cell_type": "code",
   "execution_count": 16,
   "id": "a307e91d",
   "metadata": {},
   "outputs": [
    {
     "name": "stdout",
     "output_type": "stream",
     "text": [
      "*****\n",
      "*\n",
      "* * *\n",
      "*** *\n"
     ]
    }
   ],
   "source": [
    "a=1\n",
    "while a<=4:\n",
    "    if a==1:\n",
    "        print(\"*****\")\n",
    "    if a==2:\n",
    "        print(\"*\")\n",
    "    if a==3:\n",
    "        print(\"* * *\")\n",
    "    if a==4:\n",
    "        print(\"*** *\")\n",
    "    a=a+1"
   ]
  },
  {
   "cell_type": "code",
   "execution_count": 4,
   "id": "ff5a61be",
   "metadata": {},
   "outputs": [
    {
     "name": "stdout",
     "output_type": "stream",
     "text": [
      "*    *\n",
      "*    *\n",
      "******\n",
      "*    *\n",
      "*    *\n"
     ]
    }
   ],
   "source": [
    "a=1\n",
    "while a<=5:\n",
    "    if a==1:\n",
    "        print(\"*    *\")\n",
    "    if a==2:\n",
    "        print(\"*    *\")\n",
    "    if a==3:\n",
    "        print(\"******\")\n",
    "    if a==4:\n",
    "        print(\"*    *\")\n",
    "    if a==5:\n",
    "        print(\"*    *\")       \n",
    "    a=a+1"
   ]
  },
  {
   "cell_type": "code",
   "execution_count": 5,
   "id": "8da22920",
   "metadata": {},
   "outputs": [
    {
     "name": "stdout",
     "output_type": "stream",
     "text": [
      "*****\n",
      "  *  \n",
      "  *  \n",
      "  *  \n",
      "*****\n"
     ]
    }
   ],
   "source": [
    "a=1\n",
    "while a<=5:\n",
    "    if a==1:\n",
    "        print(\"*****\")\n",
    "    if a==2:\n",
    "        print(\"  *  \")\n",
    "    if a==3:\n",
    "        print(\"  *  \")\n",
    "    if a==4:\n",
    "        print(\"  *  \")\n",
    "    if a==5:\n",
    "        print(\"*****\")       \n",
    "    a=a+1\n",
    "        "
   ]
  },
  {
   "cell_type": "code",
   "execution_count": 9,
   "id": "7ba45863",
   "metadata": {},
   "outputs": [
    {
     "name": "stdout",
     "output_type": "stream",
     "text": [
      "*****\n",
      "  *  \n",
      "  *  \n",
      "* *  \n",
      "***\n"
     ]
    }
   ],
   "source": [
    "a=1\n",
    "while a<=5:\n",
    "    if a==1:\n",
    "        print(\"*****\")\n",
    "    if a==2:\n",
    "        print(\"  *  \")\n",
    "    if a==3:\n",
    "        print(\"  *  \")\n",
    "    if a==4:\n",
    "        print(\"* *  \")\n",
    "    if a==5:\n",
    "        print(\"***\")       \n",
    "    a=a+1\n",
    "        "
   ]
  },
  {
   "cell_type": "code",
   "execution_count": 11,
   "id": "e9bc672a",
   "metadata": {},
   "outputs": [
    {
     "name": "stdout",
     "output_type": "stream",
     "text": [
      "*   *\n",
      "*  *\n",
      "**\n",
      "* *\n",
      "*   *\n"
     ]
    }
   ],
   "source": [
    "a=1\n",
    "while a<=5:\n",
    "    if a==1:\n",
    "        print(\"*   *\")\n",
    "    if a==2:\n",
    "        print(\"*  *\")\n",
    "    if a==3:\n",
    "        print(\"**\")\n",
    "    if a==4:\n",
    "        print(\"* *\")\n",
    "    if a==5:\n",
    "        print(\"*   *\")       \n",
    "    a=a+1\n",
    "        "
   ]
  },
  {
   "cell_type": "code",
   "execution_count": 12,
   "id": "e3cb85d2",
   "metadata": {},
   "outputs": [
    {
     "name": "stdout",
     "output_type": "stream",
     "text": [
      "  *  \n",
      "  *  \n",
      "  *  \n",
      "  *  \n",
      "  *****\n"
     ]
    }
   ],
   "source": [
    "a=1\n",
    "while a<=5:\n",
    "    if a==1:\n",
    "        print(\"  *  \")\n",
    "    if a==2:\n",
    "        print(\"  *  \")\n",
    "    if a==3:\n",
    "        print(\"  *  \")\n",
    "    if a==4:\n",
    "        print(\"  *  \")\n",
    "    if a==5:\n",
    "        print(\"  *****\")       \n",
    "    a=a+1\n",
    "        "
   ]
  },
  {
   "cell_type": "code",
   "execution_count": 30,
   "id": "b29d1c20",
   "metadata": {},
   "outputs": [
    {
     "name": "stdout",
     "output_type": "stream",
     "text": [
      "*     *\n",
      "*     *\n",
      "*  *  *\n",
      "*     *\n",
      "*     *\n"
     ]
    }
   ],
   "source": [
    "a=1\n",
    "while a<=5:\n",
    "    if a==1:\n",
    "        print(\"*     *\")\n",
    "    if a==2:\n",
    "        print(\"*     *\")\n",
    "    if a==3:\n",
    "        print(\"*  *  *\")\n",
    "    if a==4:\n",
    "        print(\"*     *\")\n",
    "    if a==5:\n",
    "        print(\"*     *\")       \n",
    "    a=a+1\n",
    "        "
   ]
  },
  {
   "cell_type": "code",
   "execution_count": 32,
   "id": "ab0de23c",
   "metadata": {},
   "outputs": [
    {
     "name": "stdout",
     "output_type": "stream",
     "text": [
      "*   *\n",
      "*   *\n",
      "* * *\n",
      "*   *\n"
     ]
    }
   ],
   "source": [
    "a=1\n",
    "while a<=4:\n",
    "    if a==1:\n",
    "        print(\"* *\")\n",
    "    if a==2:\n",
    "        print(\"  *****\")\n",
    "    if a==3:\n",
    "        print(\"  * * *\")\n",
    "    if a==4:\n",
    "        print(\"  * * *\")      \n",
    "    a=a+1\n",
    "        "
   ]
  },
  {
   "cell_type": "code",
   "execution_count": 40,
   "id": "9ba4ece9",
   "metadata": {},
   "outputs": [
    {
     "name": "stdout",
     "output_type": "stream",
     "text": [
      " *** \n",
      "*   *\n",
      "*   *\n",
      "*   *\n",
      " *** \n"
     ]
    }
   ],
   "source": [
    "a=1\n",
    "while a<=5:\n",
    "    if a==1:\n",
    "        print(\" *** \")\n",
    "    if a==2:\n",
    "        print(\"*   *\")\n",
    "    if a==3:\n",
    "        print(\"*   *\")\n",
    "    if a==4:\n",
    "        print(\"*   *\")\n",
    "    if a==5:\n",
    "        print(\" *** \")       \n",
    "    a=a+1\n",
    "        "
   ]
  },
  {
   "cell_type": "code",
   "execution_count": 90,
   "id": "066df4d5",
   "metadata": {},
   "outputs": [
    {
     "name": "stdout",
     "output_type": "stream",
     "text": [
      "*****\n",
      "*   *\n",
      "*   *\n",
      "*****\n",
      "*   \n",
      "*   \n"
     ]
    }
   ],
   "source": [
    "a=1\n",
    "while a<=6:\n",
    "    if a==1:\n",
    "        print(\"*****\")\n",
    "    if a==2:\n",
    "        print(\"*   *\")\n",
    "    if a==3:\n",
    "        print(\"*   *\")\n",
    "    if a==4:\n",
    "        print(\"*****\")\n",
    "    if a==5:\n",
    "        print(\"*   \")\n",
    "    if a==6:\n",
    "        print(\"*   \")       \n",
    "    a=a+1"
   ]
  },
  {
   "cell_type": "code",
   "execution_count": 51,
   "id": "9bc2853a",
   "metadata": {},
   "outputs": [
    {
     "name": "stdout",
     "output_type": "stream",
     "text": [
      "*****\n",
      "*   *\n",
      "* * *\n",
      "* * *\n",
      "*****\n",
      "     *\n",
      "      *\n"
     ]
    }
   ],
   "source": [
    "a=1\n",
    "while a<=7:\n",
    "    if a==1:\n",
    "        print(\"*****\")\n",
    "    if a==2:\n",
    "        print(\"*   *\")\n",
    "    if a==3:\n",
    "        print(\"* * *\")\n",
    "    if a==4:\n",
    "        print(\"* * *\")\n",
    "    if a==5:\n",
    "        print(\"*****\")\n",
    "    if a==6:\n",
    "        print(\"     *\")\n",
    "    if a==7:\n",
    "        print(\"      *\")\n",
    "    a=a+1"
   ]
  },
  {
   "cell_type": "code",
   "execution_count": 55,
   "id": "4d9253fb",
   "metadata": {},
   "outputs": [
    {
     "name": "stdout",
     "output_type": "stream",
     "text": [
      "*****\n",
      "*   *\n",
      "*   *\n",
      "*****\n",
      "**   \n",
      "* *  \n",
      "*   *\n"
     ]
    }
   ],
   "source": [
    "a=1\n",
    "while a<=7:\n",
    "    if a==1:\n",
    "        print(\"*****\")\n",
    "    if a==2:\n",
    "        print(\"*   *\")\n",
    "    if a==3:\n",
    "        print(\"*   *\")\n",
    "    if a==4:\n",
    "        print(\"*****\")\n",
    "    if a==5:\n",
    "        print(\"**   \")\n",
    "    if a==6:\n",
    "        print(\"* *  \")\n",
    "    if a==7:\n",
    "        print(\"*   *\")\n",
    "    a=a+1"
   ]
  },
  {
   "cell_type": "code",
   "execution_count": 56,
   "id": "24f32f97",
   "metadata": {},
   "outputs": [
    {
     "name": "stdout",
     "output_type": "stream",
     "text": [
      "*****\n",
      "*    \n",
      "*    \n",
      "*****\n",
      "    *\n",
      "    *\n",
      "*****\n"
     ]
    }
   ],
   "source": [
    "a=1\n",
    "while a<=7:\n",
    "    if a==1:\n",
    "        print(\"*****\")\n",
    "    if a==2:\n",
    "        print(\"*    \")\n",
    "    if a==3:\n",
    "        print(\"*    \")\n",
    "    if a==4:\n",
    "        print(\"*****\")\n",
    "    if a==5:\n",
    "        print(\"    *\")\n",
    "    if a==6:\n",
    "        print(\"    *\")\n",
    "    if a==7:\n",
    "        print(\"*****\")\n",
    "    a=a+1"
   ]
  },
  {
   "cell_type": "code",
   "execution_count": 57,
   "id": "f18cb39a",
   "metadata": {},
   "outputs": [
    {
     "name": "stdout",
     "output_type": "stream",
     "text": [
      "*****\n",
      "  *  \n",
      "  *  \n",
      "  *  \n"
     ]
    }
   ],
   "source": [
    "a=1\n",
    "while a<=4:\n",
    "    if a==1:\n",
    "        print(\"*****\")\n",
    "    if a==2:\n",
    "        print(\"  *  \")\n",
    "    if a==3:\n",
    "        print(\"  *  \")\n",
    "    if a==4:\n",
    "        print(\"  *  \")\n",
    "    a=a+1"
   ]
  },
  {
   "cell_type": "code",
   "execution_count": 59,
   "id": "23f5ca1d",
   "metadata": {},
   "outputs": [
    {
     "name": "stdout",
     "output_type": "stream",
     "text": [
      "*   *\n",
      "*   *\n",
      "*   *\n",
      " *** \n"
     ]
    }
   ],
   "source": [
    "a=1\n",
    "while a<=4:\n",
    "    if a==1:\n",
    "        print(\"*   *\")\n",
    "    if a==2:\n",
    "        print(\"*   *\")\n",
    "    if a==3:\n",
    "        print(\"*   *\")\n",
    "    if a==4:\n",
    "        print(\" *** \")\n",
    "    a=a+1"
   ]
  },
  {
   "cell_type": "code",
   "execution_count": 70,
   "id": "a1c92019",
   "metadata": {},
   "outputs": [
    {
     "name": "stdout",
     "output_type": "stream",
     "text": [
      "*     *\n",
      " *   * \n",
      "  * * \n",
      "   *   \n"
     ]
    }
   ],
   "source": [
    "a=1\n",
    "while a<=4:\n",
    "    if a==1:\n",
    "        print(\"*     *\")\n",
    "    if a==2:\n",
    "        print(\" *   * \")\n",
    "    if a==3:\n",
    "        print(\"  * * \")\n",
    "    if a==4:\n",
    "        print(\"   *   \")\n",
    "    a=a+1"
   ]
  },
  {
   "cell_type": "code",
   "execution_count": 73,
   "id": "e90c24fd",
   "metadata": {},
   "outputs": [
    {
     "name": "stdout",
     "output_type": "stream",
     "text": [
      "*     *     *\n",
      " *   * *   *\n",
      "  * *   * *\n",
      "   *     *\n"
     ]
    }
   ],
   "source": [
    "a=1\n",
    "while a<=4:\n",
    "    if a==1:\n",
    "        print(\"*     *     *\")\n",
    "    if a==2:\n",
    "        print(\" *   * *   *\")\n",
    "    if a==3:\n",
    "        print(\"  * *   * *\")\n",
    "    if a==4:\n",
    "        print(\"   *     *\")\n",
    "    a=a+1"
   ]
  },
  {
   "cell_type": "code",
   "execution_count": 75,
   "id": "97c9aafc",
   "metadata": {},
   "outputs": [
    {
     "name": "stdout",
     "output_type": "stream",
     "text": [
      "*     *\n",
      " *   * \n",
      "  * * \n",
      "   *   \n",
      "  * * \n",
      " *   * \n",
      "*     *\n"
     ]
    }
   ],
   "source": [
    "a=1\n",
    "while a<=8:\n",
    "    if a==1:\n",
    "        print(\"*     *\")\n",
    "    if a==2:\n",
    "        print(\" *   * \")\n",
    "    if a==3:\n",
    "        print(\"  * * \")\n",
    "    if a==4:\n",
    "        print(\"   *   \")\n",
    "    if a==5:\n",
    "        print(\"  * * \")\n",
    "    if a==6:\n",
    "        print(\" *   * \")\n",
    "    if a==7:\n",
    "        print(\"*     *\")\n",
    "    a=a+1"
   ]
  },
  {
   "cell_type": "code",
   "execution_count": 76,
   "id": "d4d829fc",
   "metadata": {},
   "outputs": [
    {
     "name": "stdout",
     "output_type": "stream",
     "text": [
      "*   *\n",
      " * * \n",
      "  * \n",
      "  * \n"
     ]
    }
   ],
   "source": [
    "a=1\n",
    "while a<=4:\n",
    "    if a==1:\n",
    "        print(\"*   *\")\n",
    "    if a==2:\n",
    "        print(\" * * \")\n",
    "    if a==3:\n",
    "        print(\"  * \")\n",
    "    if a==4:\n",
    "        print(\"  * \")\n",
    "    a=a+1"
   ]
  },
  {
   "cell_type": "code",
   "execution_count": 88,
   "id": "06d8b76b",
   "metadata": {},
   "outputs": [
    {
     "name": "stdout",
     "output_type": "stream",
     "text": [
      "*****\n",
      "   * \n",
      "  *  \n",
      " *   \n",
      "*    \n",
      "*****\n"
     ]
    }
   ],
   "source": [
    "a=1\n",
    "while a<=6:\n",
    "    if a==1:\n",
    "        print(\"*****\")\n",
    "    if a==2:\n",
    "        print(\"   * \")\n",
    "    if a==3:\n",
    "        print(\"  *  \")\n",
    "    if a==4:\n",
    "        print(\" *   \")\n",
    "    if a==5:\n",
    "        print(\"*    \")\n",
    "    if a==6:\n",
    "        print(\"*****\")\n",
    "    a=a+1"
   ]
  },
  {
   "cell_type": "code",
   "execution_count": null,
   "id": "8215434c",
   "metadata": {},
   "outputs": [],
   "source": []
  }
 ],
 "metadata": {
  "kernelspec": {
   "display_name": "Python 3 (ipykernel)",
   "language": "python",
   "name": "python3"
  },
  "language_info": {
   "codemirror_mode": {
    "name": "ipython",
    "version": 3
   },
   "file_extension": ".py",
   "mimetype": "text/x-python",
   "name": "python",
   "nbconvert_exporter": "python",
   "pygments_lexer": "ipython3",
   "version": "3.9.13"
  }
 },
 "nbformat": 4,
 "nbformat_minor": 5
}
