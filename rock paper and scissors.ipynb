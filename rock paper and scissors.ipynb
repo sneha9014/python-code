{
 "cells": [
  {
   "cell_type": "code",
   "execution_count": 1,
   "id": "26d46487",
   "metadata": {},
   "outputs": [
    {
     "name": "stdout",
     "output_type": "stream",
     "text": [
      "pick any of these rock,paper,scissorrock\n",
      "pick any of these rock,paper,scissorpaper\n",
      "pick2 has won\n"
     ]
    }
   ],
   "source": [
    "pick1=input(\"pick any of these rock,paper,scissor\")\n",
    "pick2=input(\"pick any of these rock,paper,scissor\")\n",
    "if pick1==\"rock\" and pick2==\"paper\":\n",
    "    print(\"pick2 has won\")\n",
    "elif pick1==\"rock\" and pick2==\"scissors\":\n",
    "    print(\"pick1 has won\")\n",
    "elif pick1==\"rock\" and pick2==\"rock\":\n",
    "    print(\"nobody has won\")\n",
    "elif pick1==\"paper\" and pick2==\"scissors\":\n",
    "    print(\"pick2 has won\")\n",
    "elif pick1==\"paper\" and pick2==\"rock\":\n",
    "    print(\"pick2 has won\")\n",
    "elif pick1==\"paper\" and pick2==\"paper\":\n",
    "    print(\"nobody has won\")\n",
    "elif pick1==\"scissors\" and pick2==\"rock\":\n",
    "    print(\"pick2 has won\")\n",
    "elif pick1==\"scissors\" and pick2==\"paper\":\n",
    "    print(\"pick1 has won\")\n",
    "elif pick1==\"scissors\" and pick2==\"scissors\":\n",
    "    print(\"nobody has won\")\n",
    "else:\n",
    "    print(\"error\")\n"
   ]
  },
  {
   "cell_type": "code",
   "execution_count": null,
   "id": "99ee95bb",
   "metadata": {},
   "outputs": [],
   "source": []
  }
 ],
 "metadata": {
  "kernelspec": {
   "display_name": "Python 3 (ipykernel)",
   "language": "python",
   "name": "python3"
  },
  "language_info": {
   "codemirror_mode": {
    "name": "ipython",
    "version": 3
   },
   "file_extension": ".py",
   "mimetype": "text/x-python",
   "name": "python",
   "nbconvert_exporter": "python",
   "pygments_lexer": "ipython3",
   "version": "3.9.13"
  }
 },
 "nbformat": 4,
 "nbformat_minor": 5
}
