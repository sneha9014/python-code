{
 "cells": [
  {
   "cell_type": "code",
   "execution_count": 5,
   "id": "2168e7af",
   "metadata": {},
   "outputs": [
    {
     "name": "stdout",
     "output_type": "stream",
     "text": [
      "WateR\n"
     ]
    },
    {
     "data": {
      "text/plain": [
       "'water'"
      ]
     },
     "execution_count": 5,
     "metadata": {},
     "output_type": "execute_result"
    }
   ],
   "source": [
    "#write a python program to convert a string to lower case\n",
    "s=input()\n",
    "s.lower()"
   ]
  },
  {
   "cell_type": "code",
   "execution_count": 1,
   "id": "6107dc69",
   "metadata": {},
   "outputs": [
    {
     "name": "stdout",
     "output_type": "stream",
     "text": [
      "PYTHON\n",
      "PyThOn\n"
     ]
    }
   ],
   "source": [
    "#write a python program to convert only odd index chars into lower case\n",
    "#ex: PYTHON\n",
    "#PyThOn\n",
    "i=input()\n",
    "e=\"\"\n",
    "for z in range(len(i)):\n",
    "    if z%2!=0:\n",
    "        s=i[z]\n",
    "        e=e+s.lower()\n",
    "    else:\n",
    "        e=e+i[z]\n",
    "print(e)        \n",
    "        "
   ]
  },
  {
   "cell_type": "code",
   "execution_count": 3,
   "id": "bb78c99d",
   "metadata": {},
   "outputs": [],
   "source": [
    "#write a python program to convert only even index chars into lower case\n",
    "#ex: PYTHON\n",
    "#pYtHoN"
   ]
  },
  {
   "cell_type": "code",
   "execution_count": 2,
   "id": "80a0d8f9",
   "metadata": {},
   "outputs": [
    {
     "name": "stdout",
     "output_type": "stream",
     "text": [
      "PYTHON\n",
      "pYtHoN\n"
     ]
    }
   ],
   "source": [
    "i=input()\n",
    "string=\"\"\n",
    "for z in range(len(i)):\n",
    "    if z%2==0:\n",
    "        s=i[z]\n",
    "        string=string+s.lower()\n",
    "    else:\n",
    "        string=string+i[z]\n",
    "print(string)"
   ]
  },
  {
   "cell_type": "code",
   "execution_count": 2,
   "id": "94f2cca3",
   "metadata": {},
   "outputs": [
    {
     "name": "stdout",
     "output_type": "stream",
     "text": [
      "python\n",
      "pYtHoN\n"
     ]
    }
   ],
   "source": [
    "#.Write a python program to convert only odd indexed characters to upper case \n",
    "i=input()\n",
    "string=\"\"\n",
    "for z in range(len(i)):\n",
    "    if z%2!=0:\n",
    "        s=i[z]\n",
    "        string=string+s.upper()\n",
    "    else:\n",
    "        string=string+i[z]\n",
    "print(e) "
   ]
  },
  {
   "cell_type": "code",
   "execution_count": 3,
   "id": "dbaebc9f",
   "metadata": {},
   "outputs": [
    {
     "name": "stdout",
     "output_type": "stream",
     "text": [
      "python\n",
      "PyThOn\n"
     ]
    }
   ],
   "source": [
    "#.Write a python program to convert only even indexed characters to upper case\n",
    "i=input()\n",
    "string=\"\"\n",
    "for z in range(len(i)):\n",
    "    if z%2==0:\n",
    "        s=i[z]\n",
    "        string=string+s.upper()\n",
    "    else:\n",
    "        string=string+i[z]\n",
    "print(string)\n"
   ]
  },
  {
   "cell_type": "code",
   "execution_count": 6,
   "id": "75584e88",
   "metadata": {},
   "outputs": [
    {
     "name": "stdout",
     "output_type": "stream",
     "text": [
      "write your name : ross\n",
      "type your age : 30\n",
      "type your phone_no : 6789054321\n",
      "write your fathers_name : ben\n",
      "enter your mothers_name :monica\n"
     ]
    },
    {
     "data": {
      "text/plain": [
       "'My name is ross  my age is 30 my phone_no is 6789054321 and my father name is ben and my mother name is monica'"
      ]
     },
     "execution_count": 6,
     "metadata": {},
     "output_type": "execute_result"
    }
   ],
   "source": [
    "name=input(\"write your name : \")\n",
    "age=int(input(\"type your age : \"))\n",
    "phone_no=int(input(\"type your phone_no : \"))\n",
    "father_name=input(\"write your fathers_name : \")\n",
    "mother_name=input(\"enter your mothers_name :\")\n",
    "bio_data=\"My name is {}  my age is {} my phone_no is {} and my father name is {} and my mother name is {}\"\n",
    "bio_data.format(name,age,phone_no,father_name,mother_name)"
   ]
  },
  {
   "cell_type": "code",
   "execution_count": 7,
   "id": "d795aeac",
   "metadata": {},
   "outputs": [
    {
     "name": "stdout",
     "output_type": "stream",
     "text": [
      "p@@@@@kvfjfk@@Gfg@@\n",
      "9\n"
     ]
    }
   ],
   "source": [
    "#Write a python program to count how many times “@” occurred \n",
    "x=input()\n",
    "c=x.count(\"@\")\n",
    "print(c)\n"
   ]
  },
  {
   "cell_type": "code",
   "execution_count": 12,
   "id": "6b86aea0",
   "metadata": {},
   "outputs": [
    {
     "name": "stdout",
     "output_type": "stream",
     "text": [
      "enter a string :mynameissan\n",
      "mei\n"
     ]
    }
   ],
   "source": [
    "#Given a string of odd length greater that 9, return a new string made of the middle three characters of a given String\n",
    "name=input(\"enter a string :\")\n",
    "l=len(name)\n",
    "d=int(l/2)-1\n",
    "x=name[d:d+3]\n",
    "print(x)"
   ]
  },
  {
   "cell_type": "code",
   "execution_count": 3,
   "id": "f41f7ffb",
   "metadata": {},
   "outputs": [
    {
     "name": "stdout",
     "output_type": "stream",
     "text": [
      "enter string1:myn\n",
      "enter string2:sa\n",
      "msayn\n"
     ]
    }
   ],
   "source": [
    "#Write a python program to insert a 2 string in the middle of 1 string\n",
    "s1=input(\"enter string1:\")\n",
    "s2=input(\"enter string2:\")\n",
    "l=int(len(s1)/2)-1\n",
    "c=s1[0]+s2[0:]+s1[1:]\n",
    "print(c)"
   ]
  },
  {
   "cell_type": "code",
   "execution_count": 18,
   "id": "d8c44419",
   "metadata": {},
   "outputs": [
    {
     "name": "stdout",
     "output_type": "stream",
     "text": [
      "enter an input:thoerw\n",
      "thrw\n"
     ]
    }
   ],
   "source": [
    "#Write a program to remove vowels from the entire alphabets \n",
    "v=input(\"enter an input:\")\n",
    "empty=\"\"\n",
    "for j in v:\n",
    "    if j==\"a\" or j==\"e\" or j==\"i\" or j==\"o\" or j==\"u\":\n",
    "        continue\n",
    "    empty=empty+j\n",
    "print(empty)    "
   ]
  },
  {
   "cell_type": "code",
   "execution_count": 12,
   "id": "f3e1b7e5",
   "metadata": {},
   "outputs": [
    {
     "name": "stdout",
     "output_type": "stream",
     "text": [
      "enter your string: name1.@gmail.com,name2.@gmail.com,name3.@gmail.com”\n",
      "name1,name2,name3,\n"
     ]
    }
   ],
   "source": [
    "#Write a python program to get only names from the string \n",
    "v=input(\"enter your string: \")\n",
    "str=\"\"\n",
    "s=v.split(\",\")\n",
    "for i in s:\n",
    "    z=i.partition(\".@\")[0]\n",
    "    str=str+z+\",\"\n",
    "print(str)\n"
   ]
  },
  {
   "cell_type": "code",
   "execution_count": null,
   "id": "e944cd80",
   "metadata": {},
   "outputs": [],
   "source": []
  }
 ],
 "metadata": {
  "kernelspec": {
   "display_name": "Python 3 (ipykernel)",
   "language": "python",
   "name": "python3"
  },
  "language_info": {
   "codemirror_mode": {
    "name": "ipython",
    "version": 3
   },
   "file_extension": ".py",
   "mimetype": "text/x-python",
   "name": "python",
   "nbconvert_exporter": "python",
   "pygments_lexer": "ipython3",
   "version": "3.9.13"
  }
 },
 "nbformat": 4,
 "nbformat_minor": 5
}
